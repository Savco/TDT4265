{
 "cells": [
  {
   "cell_type": "markdown",
   "metadata": {
    "colab_type": "text",
    "id": "xi4ZJw7nlVY-"
   },
   "source": [
    "# Exercise P2 - TDT 4265 Computer Vision and Deep Learning\n",
    "\n",
    "Run the cell below to load the [**MNIST**](http://yann.lecun.com/exdb/mnist/) data set, which you will use in **Task 1 and Task 2**. \n",
    "\n",
    "As you recall from the class, we generally split the training set into train + vaildation as shows in the following image (This will be done at the end of this section).\n",
    "\n",
    "![alt text](https://i.imgur.com/X6DMWIf.png)\n"
   ]
  },
  {
   "cell_type": "code",
   "execution_count": 2,
   "metadata": {
    "colab": {
     "autoexec": {
      "startup": false,
      "wait_interval": 0
     },
     "base_uri": "https://localhost:8080/",
     "height": 170,
     "output_extras": [
      {},
      {},
      {}
     ]
    },
    "colab_type": "code",
    "executionInfo": {
     "elapsed": 10587,
     "status": "ok",
     "timestamp": 1519759549620,
     "user": {
      "displayName": "Håvard Falk",
      "photoUrl": "//lh4.googleusercontent.com/-w_wH5a-TGyE/AAAAAAAAAAI/AAAAAAAACow/V4NfGcVGa7U/s50-c-k-no/photo.jpg",
      "userId": "111600991509681646021"
     },
     "user_tz": -60
    },
    "id": "wD6-2pJNlWXb",
    "outputId": "974f2605-cad0-444e-e817-b57e458e69b8"
   },
   "outputs": [
    {
     "name": "stdout",
     "output_type": "stream",
     "text": [
      "Ensure that we have Keras installed\n"
     ]
    },
    {
     "name": "stderr",
     "output_type": "stream",
     "text": [
      "/home/michal/anaconda3/lib/python3.6/site-packages/h5py/__init__.py:34: FutureWarning: Conversion of the second argument of issubdtype from `float` to `np.floating` is deprecated. In future, it will be treated as `np.float64 == np.dtype(float).type`.\n",
      "  from ._conv import register_converters as _register_converters\n",
      "Using TensorFlow backend.\n"
     ]
    },
    {
     "name": "stdout",
     "output_type": "stream",
     "text": [
      "x_train_entire size: 60000, y_train_entire size: 60000\n",
      "x_train size: 10000, y_train size: 10000\n",
      "\n",
      "Image shape: (28, 28)\n",
      "Label: 7\n"
     ]
    }
   ],
   "source": [
    "print('Ensure that we have Keras installed')\n",
    "!pip install -q keras\n",
    "from keras.datasets import mnist\n",
    "\n",
    "# The data, split between train and test sets\n",
    "# x_train is a list of training images, y_train is a list og training lables\n",
    "# x_test is a list of test images, y_test is a list of test lables\n",
    "(x_train_entire, y_train_entire), (x_test, y_test) = mnist.load_data()\n",
    "\n",
    "\n",
    "print('x_train_entire size: {}, y_train_entire size: {}'.format(len(x_train_entire), \n",
    "                                                                 len(y_train_entire)))\n",
    "print('x_train size: {}, y_train size: {}\\n'.format(len(x_test), len(y_test)))\n",
    "\n",
    "# Show the format of one randomly chosen image and label (123)\n",
    "image = x_train_entire[123]\n",
    "label = y_train_entire[123]\n",
    "print('Image shape: {}'.format(image.shape))\n",
    "print('Label: {}'.format(label))\n",
    "\n",
    "# Split x_train_entire and y_train_entire into training and validation\n",
    "x_train    = x_train_entire[ :40000]\n",
    "x_validate = x_train_entire[40001: ]\n",
    "y_train    = y_train_entire[ :40000]\n",
    "y_validate = y_train_entire[40001: ]\n",
    "\n",
    "# Note that the split should be done randomly on each data image, \n",
    "# here we prepared a non-random split so that you can start your programming. \n",
    "# However, in general you should choose your train and validation images randomly."
   ]
  },
  {
   "cell_type": "markdown",
   "metadata": {
    "colab_type": "text",
    "id": "ZooGMMhEluUN"
   },
   "source": [
    "## Task 0: Create a helper function to plot and visulize the training\n",
    "> **(might be smart to solve after Task 1)**\n",
    "\n",
    "**Input:** history (keras history from the training)\n",
    "\n",
    "### GOAL: \n",
    "1. Create a graph that plots **Loss vs epochs** and one that plots **Accuracy vs epochs** of the **training and validation set**"
   ]
  },
  {
   "cell_type": "code",
   "execution_count": 3,
   "metadata": {
    "colab": {
     "autoexec": {
      "startup": false,
      "wait_interval": 0
     }
    },
    "colab_type": "code",
    "collapsed": true,
    "id": "mdqPqueCltMU"
   },
   "outputs": [],
   "source": [
    "%matplotlib inline\n",
    "from matplotlib import pyplot as plt\n",
    "\n",
    "def plot_training_score(history):\n",
    "  print('Availible variables to plot: {}'.format(history.history.keys()))\n",
    "  plt.plot(history.history['acc'])\n",
    "  plt.plot(history.history['val_acc'])\n",
    "  plt.title('model accuracy')\n",
    "  plt.ylabel('accuracy')\n",
    "  plt.xlabel('epoch')\n",
    "  plt.legend(['train', 'validation test'], loc='upper left')\n",
    "  plt.show()\n",
    "    \n",
    "  plt.plot(history.history['loss'])\n",
    "  plt.plot(history.history['val_loss'])\n",
    "  plt.title('model loss')\n",
    "  plt.ylabel('loss')\n",
    "  plt.xlabel('epoch')\n",
    "  plt.legend(['train', 'validation test'], loc='upper left')\n",
    "  plt.show()  \n",
    "  \n",
    "  # TODO: Visulize the plot, to be applied after traing is complete"
   ]
  },
  {
   "cell_type": "markdown",
   "metadata": {
    "colab_type": "text",
    "id": "Sy3nDhtEqRYT"
   },
   "source": [
    "## Task 1 (20%): Classification using fully-connected neural networks \n",
    "#### Dataset:  [MNIST](http://yann.lecun.com/exdb/mnist/)\n",
    "### Subtask 1.1\n",
    "1. Print the model structure \n",
    "2. Visualize the training as it progresses (Task 0) - static plot when training is complete is OK\n",
    "3. Output the final score of the test set, **should be above 90%**"
   ]
  },
  {
   "cell_type": "code",
   "execution_count": 10,
   "metadata": {
    "colab": {
     "autoexec": {
      "startup": false,
      "wait_interval": 0
     }
    },
    "colab_type": "code",
    "id": "6jdpv5zirYTO",
    "scrolled": true
   },
   "outputs": [
    {
     "name": "stdout",
     "output_type": "stream",
     "text": [
      "_________________________________________________________________\n",
      "Layer (type)                 Output Shape              Param #   \n",
      "=================================================================\n",
      "dense_11 (Dense)             (None, 512)               401920    \n",
      "_________________________________________________________________\n",
      "dense_12 (Dense)             (None, 10)                5130      \n",
      "=================================================================\n",
      "Total params: 407,050\n",
      "Trainable params: 407,050\n",
      "Non-trainable params: 0\n",
      "_________________________________________________________________\n",
      "None\n",
      "Train on 40000 samples, validate on 19999 samples\n",
      "Epoch 1/10\n",
      "40000/40000 [==============================] - 12s 307us/step - loss: 0.3160 - acc: 0.9121 - val_loss: 0.1771 - val_acc: 0.9489\n",
      "Epoch 2/10\n",
      "40000/40000 [==============================] - 11s 285us/step - loss: 0.1335 - acc: 0.9610 - val_loss: 0.1360 - val_acc: 0.9589\n",
      "Epoch 3/10\n",
      "40000/40000 [==============================] - 11s 278us/step - loss: 0.0868 - acc: 0.9748 - val_loss: 0.1084 - val_acc: 0.9669\n",
      "Epoch 4/10\n",
      "40000/40000 [==============================] - 9s 234us/step - loss: 0.0603 - acc: 0.9830 - val_loss: 0.0994 - val_acc: 0.9692\n",
      "Epoch 5/10\n",
      "40000/40000 [==============================] - 7s 163us/step - loss: 0.0441 - acc: 0.9877 - val_loss: 0.0906 - val_acc: 0.9723\n",
      "Epoch 6/10\n",
      "40000/40000 [==============================] - 5s 133us/step - loss: 0.0330 - acc: 0.9911 - val_loss: 0.0877 - val_acc: 0.9731\n",
      "Epoch 7/10\n",
      "40000/40000 [==============================] - 5s 128us/step - loss: 0.0234 - acc: 0.9945 - val_loss: 0.0886 - val_acc: 0.9741\n",
      "Epoch 8/10\n",
      "40000/40000 [==============================] - 5s 128us/step - loss: 0.0179 - acc: 0.9955 - val_loss: 0.0918 - val_acc: 0.9729\n",
      "Epoch 9/10\n",
      "40000/40000 [==============================] - 5s 127us/step - loss: 0.0141 - acc: 0.9970 - val_loss: 0.0894 - val_acc: 0.9750\n",
      "Epoch 10/10\n",
      "40000/40000 [==============================] - 5s 132us/step - loss: 0.0094 - acc: 0.9985 - val_loss: 0.0886 - val_acc: 0.9750\n",
      "Availible variables to plot: dict_keys(['val_loss', 'val_acc', 'loss', 'acc'])\n"
     ]
    },
    {
     "data": {
      "image/png": "[encoded data removed]",
      "text/plain": [
       "<matplotlib.figure.Figure at 0x7f18d9064cc0>"
      ]
     },
     "metadata": {},
     "output_type": "display_data"
    },
    {
     "data": {
      "image/png": "[encoded data removed]",
      "text/plain": [
       "<matplotlib.figure.Figure at 0x7f18d78088d0>"
      ]
     },
     "metadata": {},
     "output_type": "display_data"
    },
    {
     "name": "stdout",
     "output_type": "stream",
     "text": [
      "10000/10000 [==============================] - 1s 56us/step\n",
      "Test accuracy: 0.9792\n"
     ]
    }
   ],
   "source": [
    "from keras.models import Sequential\n",
    "from keras.layers import Dense # Import the nessesarly layers\n",
    "from keras.utils import to_categorical\n",
    "\n",
    "# Remember, you can normalize the data\n",
    "\n",
    "# TODO: Flatten all images (Both training and testing images)\n",
    "x_train = x_train.reshape(40000, image.shape[0] * image.shape[1])\n",
    "x_train_flatten = x_train.astype('float32')/255\n",
    "x_validate = x_validate.reshape(19999, image.shape[0] * image.shape[1])\n",
    "x_validate_flatten = x_validate.astype('float32')/255\n",
    "x_test = x_test.reshape(10000, image.shape[0] * image.shape[1])\n",
    "x_test_flatten = x_test.astype('float32')/255\n",
    "\n",
    "# TODO: Convert class vectors to binary class matrices (one-hot encoding)\n",
    "y_train_one_hot = to_categorical(y_train_entire)\n",
    "y_train = y_train_one_hot[:40000]\n",
    "y_validation = y_train_one_hot[40001:]\n",
    "y_test_one_hot = to_categorical(y_test)\n",
    "\n",
    "\n",
    "# Returns a compiled model\n",
    "def fully_connected_model(img_width, img_height):\n",
    "  model = Sequential()  # Initalize a new model\n",
    "  model.add(Dense(512, activation='relu', input_shape=(img_width * img_height,)))\n",
    "  model.add(Dense(10, activation='softmax')) \n",
    "\n",
    "  model.compile(optimizer='adam', loss='categorical_crossentropy', metrics=['accuracy'])  \n",
    "  # TODO: Add layers, complile the model, and show the structure of the model\n",
    "  print(model.summary())\n",
    "  \n",
    "  return model\n",
    "\n",
    "model = fully_connected_model(image.shape[0],image.shape[1])  # TODO add input parameters \n",
    "\n",
    "# TODO: Train your model (training returns history)\n",
    "history = model.fit(x_train_flatten, y_train, epochs=10, batch_size=128, validation_data=(x_validate_flatten, y_validation))\n",
    "\n",
    "\n",
    "# Plot the training using helper function created in task 0\n",
    "plot_training_score(history)\n",
    "\n",
    "# TODO: Evaluate your model and print the score of the test set\n",
    "score = model.evaluate(x_test_flatten, y_test_one_hot)\n",
    "print('Test accuracy:', score[1])"
   ]
  },
  {
   "cell_type": "markdown",
   "metadata": {
    "colab_type": "text",
    "id": "iQ-3eRSz0uTk"
   },
   "source": [
    "### Subtask 1.2\n",
    "1. **Briefly** explain the plot from subtask 1.1\n",
    "2. **Briefly** justify your model structure from subtask 1.1\n",
    "\n",
    "**TODO** *Add your answer here*"
   ]
  },
  {
   "cell_type": "markdown",
   "metadata": {
    "colab_type": "text",
    "id": "m62Cd5aNuP_D"
   },
   "source": [
    "## Task 2 (20%): Classification using convolutional layers + fully connected layers (i.e. CNN)\n",
    "#### Dataset:  [MNIST](http://yann.lecun.com/exdb/mnist/)\n",
    "### Subtask 2.1\n",
    "1. Create a model using convolutional layers\n",
    "2. Print the model structure\n",
    "3. Visualize the training as it progresses (Task 0) - static plot when training is complete is OK\n",
    "4. Output the final score of the test set, **should be above 98%**"
   ]
  },
  {
   "cell_type": "code",
   "execution_count": 17,
   "metadata": {
    "colab": {
     "autoexec": {
      "startup": false,
      "wait_interval": 0
     }
    },
    "colab_type": "code",
    "id": "DkJuSNA_vkxE"
   },
   "outputs": [
    {
     "name": "stdout",
     "output_type": "stream",
     "text": [
      "_________________________________________________________________\n",
      "Layer (type)                 Output Shape              Param #   \n",
      "=================================================================\n",
      "conv2d_19 (Conv2D)           (None, 26, 26, 32)        320       \n",
      "_________________________________________________________________\n",
      "max_pooling2d_13 (MaxPooling (None, 13, 13, 32)        0         \n",
      "_________________________________________________________________\n",
      "conv2d_20 (Conv2D)           (None, 11, 11, 64)        18496     \n",
      "_________________________________________________________________\n",
      "max_pooling2d_14 (MaxPooling (None, 5, 5, 64)          0         \n",
      "_________________________________________________________________\n",
      "conv2d_21 (Conv2D)           (None, 3, 3, 64)          36928     \n",
      "_________________________________________________________________\n",
      "dropout_2 (Dropout)          (None, 3, 3, 64)          0         \n",
      "_________________________________________________________________\n",
      "flatten_7 (Flatten)          (None, 576)               0         \n",
      "_________________________________________________________________\n",
      "dense_25 (Dense)             (None, 64)                36928     \n",
      "_________________________________________________________________\n",
      "dense_26 (Dense)             (None, 10)                650       \n",
      "=================================================================\n",
      "Total params: 93,322\n",
      "Trainable params: 93,322\n",
      "Non-trainable params: 0\n",
      "_________________________________________________________________\n",
      "None\n",
      "Train on 40000 samples, validate on 19999 samples\n",
      "Epoch 1/10\n",
      "40000/40000 [==============================] - 119s 3ms/step - loss: 0.3188 - acc: 0.8968 - val_loss: 0.0800 - val_acc: 0.9749\n",
      "Epoch 2/10\n",
      "40000/40000 [==============================] - 106s 3ms/step - loss: 0.1009 - acc: 0.9687 - val_loss: 0.0556 - val_acc: 0.9833\n",
      "Epoch 3/10\n",
      "40000/40000 [==============================] - 103s 3ms/step - loss: 0.0746 - acc: 0.9765 - val_loss: 0.0485 - val_acc: 0.9851\n",
      "Epoch 4/10\n",
      "40000/40000 [==============================] - 104s 3ms/step - loss: 0.0633 - acc: 0.9808 - val_loss: 0.0452 - val_acc: 0.9860\n",
      "Epoch 5/10\n",
      "40000/40000 [==============================] - 116s 3ms/step - loss: 0.0574 - acc: 0.9818 - val_loss: 0.0521 - val_acc: 0.9853\n",
      "Epoch 6/10\n",
      "40000/40000 [==============================] - 106s 3ms/step - loss: 0.0488 - acc: 0.9849 - val_loss: 0.0469 - val_acc: 0.9871\n",
      "Epoch 7/10\n",
      "40000/40000 [==============================] - 113s 3ms/step - loss: 0.0445 - acc: 0.9860 - val_loss: 0.0436 - val_acc: 0.9872\n",
      "Epoch 8/10\n",
      "40000/40000 [==============================] - 78s 2ms/step - loss: 0.0441 - acc: 0.9863 - val_loss: 0.0431 - val_acc: 0.9876\n",
      "Epoch 9/10\n",
      "40000/40000 [==============================] - 110s 3ms/step - loss: 0.0401 - acc: 0.9881 - val_loss: 0.0381 - val_acc: 0.9894\n",
      "Epoch 10/10\n",
      "40000/40000 [==============================] - 94s 2ms/step - loss: 0.0362 - acc: 0.9886 - val_loss: 0.0366 - val_acc: 0.9893\n",
      "Availible variables to plot: dict_keys(['val_loss', 'val_acc', 'loss', 'acc'])\n"
     ]
    },
    {
     "data": {
      "image/png": "[encoded data removed]",
      "text/plain": [
       "<matplotlib.figure.Figure at 0x7f18d3844a20>"
      ]
     },
     "metadata": {},
     "output_type": "display_data"
    },
    {
     "data": {
      "image/png": "[encoded data removed]",
      "text/plain": [
       "<matplotlib.figure.Figure at 0x7f18d48862b0>"
      ]
     },
     "metadata": {},
     "output_type": "display_data"
    },
    {
     "name": "stdout",
     "output_type": "stream",
     "text": [
      "10000/10000 [==============================] - 6s 617us/step\n",
      "Test accuracy: 0.9911\n"
     ]
    }
   ],
   "source": [
    "from keras.models import Sequential\n",
    "from keras.layers import  MaxPooling2D, Dense, Conv2D, Flatten, Dropout# Import the nessesarly layers\n",
    "from keras.utils import to_categorical\n",
    "\n",
    "# TODO: Reshape all images (Both training and testing images) to the following\n",
    "# format: (total_images, height, width, channel), eg. (4000, 28, 28, 1)\n",
    "x_train_conv = x_train.reshape((40000, 28, 28, 1))\n",
    "x_train_conv = x_train_conv.astype('float32')/255\n",
    "x_validation_conv = x_validate.reshape((19999, 28, 28, 1))\n",
    "x_validation_conv = x_validation_conv.astype('float32')/255\n",
    "x_test_conv = x_test.reshape((10000, 28, 28, 1))\n",
    "x_test_conv = x_test_conv.astype('float32')/255\n",
    "\n",
    "y_train_one_hot = to_categorical(y_train_entire)\n",
    "y_train_conv = y_train_one_hot[:40000]\n",
    "y_validation_conv = y_train_one_hot[40001:]\n",
    "y_test_conv = to_categorical(y_test)\n",
    "\n",
    "# Returns a compiled model\n",
    "def conv_model(img_width, img_height):\n",
    "  model = Sequential() \n",
    "  # TODO: Create the model\n",
    "  model.add(Conv2D(32, (3, 3), activation='relu', input_shape=(img_width, img_height, 1)))\n",
    "  model.add(MaxPooling2D((2,2)))\n",
    "  model.add(Conv2D(64 ,(3, 3), activation='relu'))\n",
    "  model.add(MaxPooling2D((2,2)))\n",
    "  model.add(Conv2D(64 ,(3,3), activation='relu'))\n",
    "  model.add(Dropout(0.5))\n",
    "\n",
    "  model.add(Flatten())\n",
    "  model.add(Dense(64, activation='relu'))\n",
    "  model.add(Dense(10, activation='softmax'))\n",
    "    \n",
    "  model.compile(optimizer='adam', loss='categorical_crossentropy', metrics=['accuracy'])  \n",
    "  print(model.summary())\n",
    "  return model\n",
    "\n",
    "# TODO: Train your model\n",
    "model = conv_model(image.shape[0],image.shape[1])\n",
    "history = model.fit(x_train_conv, y_train_conv, epochs=10, batch_size=64, validation_data=(x_validation_conv, y_validation_conv))\n",
    "\n",
    "# TODO: Plot the training using the helper function created in task 0\n",
    "plot_training_score(history)\n",
    "\n",
    "# TODO: Evaluate your model and print the score of the test set\n",
    "score = model.evaluate(x_test_conv, y_test_conv)\n",
    "print('Test accuracy:', score[1])\n"
   ]
  },
  {
   "cell_type": "markdown",
   "metadata": {
    "colab_type": "text",
    "id": "Ir9mGTtf6jRS"
   },
   "source": [
    "### Subtask 2.2\n",
    "1. **Briefly** discuss the following concepts of your network: \n",
    "  * Filter size\n",
    "  * Number of filters of each layer\n",
    "  * Dropout layer (if applicable)\n",
    "  * Max pooling (if applicable)\n",
    "  * Regularization (if applicable)\n",
    "2. **Briefly** justify your model structure from subtask 2.1\n",
    "\n",
    "\n",
    "**TODO** *Add your answer here*"
   ]
  },
  {
   "cell_type": "markdown",
   "metadata": {
    "colab_type": "text",
    "id": "cnrROcoAudg3"
   },
   "source": [
    "## Task 3 (20%): Cfar10 image contest\n",
    "\n",
    "#### Dataset:  [CIFAR-10](https://www.cs.toronto.edu/~kriz/cifar.html)\n",
    "\n",
    "Get as high accuracy as you can on the CIFAR-10 image dataset. \n",
    "\n",
    "The CIFAR-10 dataset consists of 60000 32x32 colour images in 10 classes, with 6000 images per class. There are 50000 training images and 10000 test images. \n",
    "Your task is to do this classification using CNN with as high accuracy as you can without using transfer learning / pretrained networks.\n",
    "\n",
    "More information on this dataset: https://www.cs.toronto.edu/~kriz/cifar.html\n",
    "\n",
    "**Suggested alterations:** \n",
    "  * Number of hidden layers/nodes\n",
    "  * Number of kernels\n",
    "  * Number of layers/nodes in the fully connected head \n",
    "\n",
    "**NB:** Transfer learning is not allowed in this task\n",
    "\n",
    "\n"
   ]
  },
  {
   "cell_type": "code",
   "execution_count": 21,
   "metadata": {
    "colab": {
     "autoexec": {
      "startup": false,
      "wait_interval": 0
     }
    },
    "colab_type": "code",
    "id": "IYWTQsNvvOUJ"
   },
   "outputs": [
    {
     "name": "stdout",
     "output_type": "stream",
     "text": [
      "Epoch 1/10\n",
      "  320/50000 [..............................] - ETA: 18:17 - loss: 2.3013 - acc: 0.1469"
     ]
    },
    {
     "ename": "KeyboardInterrupt",
     "evalue": "",
     "output_type": "error",
     "traceback": [
      "\u001b[0;31m---------------------------------------------------------------------------\u001b[0m",
      "\u001b[0;31mKeyboardInterrupt\u001b[0m                         Traceback (most recent call last)",
      "\u001b[0;32m<ipython-input-21-e6d95e1b3b20>\u001b[0m in \u001b[0;36m<module>\u001b[0;34m()\u001b[0m\n\u001b[1;32m     58\u001b[0m \u001b[0;34m\u001b[0m\u001b[0m\n\u001b[1;32m     59\u001b[0m \u001b[0;31m# TODO: Train the model, remeber to create a validation set\u001b[0m\u001b[0;34m\u001b[0m\u001b[0;34m\u001b[0m\u001b[0m\n\u001b[0;32m---> 60\u001b[0;31m \u001b[0mhistory\u001b[0m \u001b[0;34m=\u001b[0m \u001b[0mmodel\u001b[0m\u001b[0;34m.\u001b[0m\u001b[0mfit\u001b[0m\u001b[0;34m(\u001b[0m\u001b[0mx_train_cfar\u001b[0m\u001b[0;34m,\u001b[0m \u001b[0my_train_cfar\u001b[0m\u001b[0;34m,\u001b[0m \u001b[0mepochs\u001b[0m\u001b[0;34m=\u001b[0m\u001b[0;36m10\u001b[0m\u001b[0;34m,\u001b[0m \u001b[0mbatch_size\u001b[0m\u001b[0;34m=\u001b[0m\u001b[0;36m64\u001b[0m\u001b[0;34m)\u001b[0m\u001b[0;34m\u001b[0m\u001b[0m\n\u001b[0m\u001b[1;32m     61\u001b[0m \u001b[0;34m\u001b[0m\u001b[0m\n\u001b[1;32m     62\u001b[0m \u001b[0;31m# TODO: Plot the training using the helper function created in task 0\u001b[0m\u001b[0;34m\u001b[0m\u001b[0;34m\u001b[0m\u001b[0m\n",
      "\u001b[0;32m~/anaconda3/lib/python3.6/site-packages/keras/models.py\u001b[0m in \u001b[0;36mfit\u001b[0;34m(self, x, y, batch_size, epochs, verbose, callbacks, validation_split, validation_data, shuffle, class_weight, sample_weight, initial_epoch, steps_per_epoch, validation_steps, **kwargs)\u001b[0m\n\u001b[1;32m    961\u001b[0m                               \u001b[0minitial_epoch\u001b[0m\u001b[0;34m=\u001b[0m\u001b[0minitial_epoch\u001b[0m\u001b[0;34m,\u001b[0m\u001b[0;34m\u001b[0m\u001b[0m\n\u001b[1;32m    962\u001b[0m                               \u001b[0msteps_per_epoch\u001b[0m\u001b[0;34m=\u001b[0m\u001b[0msteps_per_epoch\u001b[0m\u001b[0;34m,\u001b[0m\u001b[0;34m\u001b[0m\u001b[0m\n\u001b[0;32m--> 963\u001b[0;31m                               validation_steps=validation_steps)\n\u001b[0m\u001b[1;32m    964\u001b[0m \u001b[0;34m\u001b[0m\u001b[0m\n\u001b[1;32m    965\u001b[0m     def evaluate(self, x=None, y=None,\n",
      "\u001b[0;32m~/anaconda3/lib/python3.6/site-packages/keras/engine/training.py\u001b[0m in \u001b[0;36mfit\u001b[0;34m(self, x, y, batch_size, epochs, verbose, callbacks, validation_split, validation_data, shuffle, class_weight, sample_weight, initial_epoch, steps_per_epoch, validation_steps, **kwargs)\u001b[0m\n\u001b[1;32m   1703\u001b[0m                               \u001b[0minitial_epoch\u001b[0m\u001b[0;34m=\u001b[0m\u001b[0minitial_epoch\u001b[0m\u001b[0;34m,\u001b[0m\u001b[0;34m\u001b[0m\u001b[0m\n\u001b[1;32m   1704\u001b[0m                               \u001b[0msteps_per_epoch\u001b[0m\u001b[0;34m=\u001b[0m\u001b[0msteps_per_epoch\u001b[0m\u001b[0;34m,\u001b[0m\u001b[0;34m\u001b[0m\u001b[0m\n\u001b[0;32m-> 1705\u001b[0;31m                               validation_steps=validation_steps)\n\u001b[0m\u001b[1;32m   1706\u001b[0m \u001b[0;34m\u001b[0m\u001b[0m\n\u001b[1;32m   1707\u001b[0m     def evaluate(self, x=None, y=None,\n",
      "\u001b[0;32m~/anaconda3/lib/python3.6/site-packages/keras/engine/training.py\u001b[0m in \u001b[0;36m_fit_loop\u001b[0;34m(self, f, ins, out_labels, batch_size, epochs, verbose, callbacks, val_f, val_ins, shuffle, callback_metrics, initial_epoch, steps_per_epoch, validation_steps)\u001b[0m\n\u001b[1;32m   1233\u001b[0m                         \u001b[0mins_batch\u001b[0m\u001b[0;34m[\u001b[0m\u001b[0mi\u001b[0m\u001b[0;34m]\u001b[0m \u001b[0;34m=\u001b[0m \u001b[0mins_batch\u001b[0m\u001b[0;34m[\u001b[0m\u001b[0mi\u001b[0m\u001b[0;34m]\u001b[0m\u001b[0;34m.\u001b[0m\u001b[0mtoarray\u001b[0m\u001b[0;34m(\u001b[0m\u001b[0;34m)\u001b[0m\u001b[0;34m\u001b[0m\u001b[0m\n\u001b[1;32m   1234\u001b[0m \u001b[0;34m\u001b[0m\u001b[0m\n\u001b[0;32m-> 1235\u001b[0;31m                     \u001b[0mouts\u001b[0m \u001b[0;34m=\u001b[0m \u001b[0mf\u001b[0m\u001b[0;34m(\u001b[0m\u001b[0mins_batch\u001b[0m\u001b[0;34m)\u001b[0m\u001b[0;34m\u001b[0m\u001b[0m\n\u001b[0m\u001b[1;32m   1236\u001b[0m                     \u001b[0;32mif\u001b[0m \u001b[0;32mnot\u001b[0m \u001b[0misinstance\u001b[0m\u001b[0;34m(\u001b[0m\u001b[0mouts\u001b[0m\u001b[0;34m,\u001b[0m \u001b[0mlist\u001b[0m\u001b[0;34m)\u001b[0m\u001b[0;34m:\u001b[0m\u001b[0;34m\u001b[0m\u001b[0m\n\u001b[1;32m   1237\u001b[0m                         \u001b[0mouts\u001b[0m \u001b[0;34m=\u001b[0m \u001b[0;34m[\u001b[0m\u001b[0mouts\u001b[0m\u001b[0;34m]\u001b[0m\u001b[0;34m\u001b[0m\u001b[0m\n",
      "\u001b[0;32m~/anaconda3/lib/python3.6/site-packages/keras/backend/tensorflow_backend.py\u001b[0m in \u001b[0;36m__call__\u001b[0;34m(self, inputs)\u001b[0m\n\u001b[1;32m   2476\u001b[0m         \u001b[0msession\u001b[0m \u001b[0;34m=\u001b[0m \u001b[0mget_session\u001b[0m\u001b[0;34m(\u001b[0m\u001b[0;34m)\u001b[0m\u001b[0;34m\u001b[0m\u001b[0m\n\u001b[1;32m   2477\u001b[0m         updated = session.run(fetches=fetches, feed_dict=feed_dict,\n\u001b[0;32m-> 2478\u001b[0;31m                               **self.session_kwargs)\n\u001b[0m\u001b[1;32m   2479\u001b[0m         \u001b[0;32mreturn\u001b[0m \u001b[0mupdated\u001b[0m\u001b[0;34m[\u001b[0m\u001b[0;34m:\u001b[0m\u001b[0mlen\u001b[0m\u001b[0;34m(\u001b[0m\u001b[0mself\u001b[0m\u001b[0;34m.\u001b[0m\u001b[0moutputs\u001b[0m\u001b[0;34m)\u001b[0m\u001b[0;34m]\u001b[0m\u001b[0;34m\u001b[0m\u001b[0m\n\u001b[1;32m   2480\u001b[0m \u001b[0;34m\u001b[0m\u001b[0m\n",
      "\u001b[0;32m~/anaconda3/lib/python3.6/site-packages/tensorflow/python/client/session.py\u001b[0m in \u001b[0;36mrun\u001b[0;34m(self, fetches, feed_dict, options, run_metadata)\u001b[0m\n\u001b[1;32m    903\u001b[0m     \u001b[0;32mtry\u001b[0m\u001b[0;34m:\u001b[0m\u001b[0;34m\u001b[0m\u001b[0m\n\u001b[1;32m    904\u001b[0m       result = self._run(None, fetches, feed_dict, options_ptr,\n\u001b[0;32m--> 905\u001b[0;31m                          run_metadata_ptr)\n\u001b[0m\u001b[1;32m    906\u001b[0m       \u001b[0;32mif\u001b[0m \u001b[0mrun_metadata\u001b[0m\u001b[0;34m:\u001b[0m\u001b[0;34m\u001b[0m\u001b[0m\n\u001b[1;32m    907\u001b[0m         \u001b[0mproto_data\u001b[0m \u001b[0;34m=\u001b[0m \u001b[0mtf_session\u001b[0m\u001b[0;34m.\u001b[0m\u001b[0mTF_GetBuffer\u001b[0m\u001b[0;34m(\u001b[0m\u001b[0mrun_metadata_ptr\u001b[0m\u001b[0;34m)\u001b[0m\u001b[0;34m\u001b[0m\u001b[0m\n",
      "\u001b[0;32m~/anaconda3/lib/python3.6/site-packages/tensorflow/python/client/session.py\u001b[0m in \u001b[0;36m_run\u001b[0;34m(self, handle, fetches, feed_dict, options, run_metadata)\u001b[0m\n\u001b[1;32m   1135\u001b[0m     \u001b[0;32mif\u001b[0m \u001b[0mfinal_fetches\u001b[0m \u001b[0;32mor\u001b[0m \u001b[0mfinal_targets\u001b[0m \u001b[0;32mor\u001b[0m \u001b[0;34m(\u001b[0m\u001b[0mhandle\u001b[0m \u001b[0;32mand\u001b[0m \u001b[0mfeed_dict_tensor\u001b[0m\u001b[0;34m)\u001b[0m\u001b[0;34m:\u001b[0m\u001b[0;34m\u001b[0m\u001b[0m\n\u001b[1;32m   1136\u001b[0m       results = self._do_run(handle, final_targets, final_fetches,\n\u001b[0;32m-> 1137\u001b[0;31m                              feed_dict_tensor, options, run_metadata)\n\u001b[0m\u001b[1;32m   1138\u001b[0m     \u001b[0;32melse\u001b[0m\u001b[0;34m:\u001b[0m\u001b[0;34m\u001b[0m\u001b[0m\n\u001b[1;32m   1139\u001b[0m       \u001b[0mresults\u001b[0m \u001b[0;34m=\u001b[0m \u001b[0;34m[\u001b[0m\u001b[0;34m]\u001b[0m\u001b[0;34m\u001b[0m\u001b[0m\n",
      "\u001b[0;32m~/anaconda3/lib/python3.6/site-packages/tensorflow/python/client/session.py\u001b[0m in \u001b[0;36m_do_run\u001b[0;34m(self, handle, target_list, fetch_list, feed_dict, options, run_metadata)\u001b[0m\n\u001b[1;32m   1353\u001b[0m     \u001b[0;32mif\u001b[0m \u001b[0mhandle\u001b[0m \u001b[0;32mis\u001b[0m \u001b[0;32mNone\u001b[0m\u001b[0;34m:\u001b[0m\u001b[0;34m\u001b[0m\u001b[0m\n\u001b[1;32m   1354\u001b[0m       return self._do_call(_run_fn, self._session, feeds, fetches, targets,\n\u001b[0;32m-> 1355\u001b[0;31m                            options, run_metadata)\n\u001b[0m\u001b[1;32m   1356\u001b[0m     \u001b[0;32melse\u001b[0m\u001b[0;34m:\u001b[0m\u001b[0;34m\u001b[0m\u001b[0m\n\u001b[1;32m   1357\u001b[0m       \u001b[0;32mreturn\u001b[0m \u001b[0mself\u001b[0m\u001b[0;34m.\u001b[0m\u001b[0m_do_call\u001b[0m\u001b[0;34m(\u001b[0m\u001b[0m_prun_fn\u001b[0m\u001b[0;34m,\u001b[0m \u001b[0mself\u001b[0m\u001b[0;34m.\u001b[0m\u001b[0m_session\u001b[0m\u001b[0;34m,\u001b[0m \u001b[0mhandle\u001b[0m\u001b[0;34m,\u001b[0m \u001b[0mfeeds\u001b[0m\u001b[0;34m,\u001b[0m \u001b[0mfetches\u001b[0m\u001b[0;34m)\u001b[0m\u001b[0;34m\u001b[0m\u001b[0m\n",
      "\u001b[0;32m~/anaconda3/lib/python3.6/site-packages/tensorflow/python/client/session.py\u001b[0m in \u001b[0;36m_do_call\u001b[0;34m(self, fn, *args)\u001b[0m\n\u001b[1;32m   1359\u001b[0m   \u001b[0;32mdef\u001b[0m \u001b[0m_do_call\u001b[0m\u001b[0;34m(\u001b[0m\u001b[0mself\u001b[0m\u001b[0;34m,\u001b[0m \u001b[0mfn\u001b[0m\u001b[0;34m,\u001b[0m \u001b[0;34m*\u001b[0m\u001b[0margs\u001b[0m\u001b[0;34m)\u001b[0m\u001b[0;34m:\u001b[0m\u001b[0;34m\u001b[0m\u001b[0m\n\u001b[1;32m   1360\u001b[0m     \u001b[0;32mtry\u001b[0m\u001b[0;34m:\u001b[0m\u001b[0;34m\u001b[0m\u001b[0m\n\u001b[0;32m-> 1361\u001b[0;31m       \u001b[0;32mreturn\u001b[0m \u001b[0mfn\u001b[0m\u001b[0;34m(\u001b[0m\u001b[0;34m*\u001b[0m\u001b[0margs\u001b[0m\u001b[0;34m)\u001b[0m\u001b[0;34m\u001b[0m\u001b[0m\n\u001b[0m\u001b[1;32m   1362\u001b[0m     \u001b[0;32mexcept\u001b[0m \u001b[0merrors\u001b[0m\u001b[0;34m.\u001b[0m\u001b[0mOpError\u001b[0m \u001b[0;32mas\u001b[0m \u001b[0me\u001b[0m\u001b[0;34m:\u001b[0m\u001b[0;34m\u001b[0m\u001b[0m\n\u001b[1;32m   1363\u001b[0m       \u001b[0mmessage\u001b[0m \u001b[0;34m=\u001b[0m \u001b[0mcompat\u001b[0m\u001b[0;34m.\u001b[0m\u001b[0mas_text\u001b[0m\u001b[0;34m(\u001b[0m\u001b[0me\u001b[0m\u001b[0;34m.\u001b[0m\u001b[0mmessage\u001b[0m\u001b[0;34m)\u001b[0m\u001b[0;34m\u001b[0m\u001b[0m\n",
      "\u001b[0;32m~/anaconda3/lib/python3.6/site-packages/tensorflow/python/client/session.py\u001b[0m in \u001b[0;36m_run_fn\u001b[0;34m(session, feed_dict, fetch_list, target_list, options, run_metadata)\u001b[0m\n\u001b[1;32m   1338\u001b[0m         \u001b[0;32melse\u001b[0m\u001b[0;34m:\u001b[0m\u001b[0;34m\u001b[0m\u001b[0m\n\u001b[1;32m   1339\u001b[0m           return tf_session.TF_Run(session, options, feed_dict, fetch_list,\n\u001b[0;32m-> 1340\u001b[0;31m                                    target_list, status, run_metadata)\n\u001b[0m\u001b[1;32m   1341\u001b[0m \u001b[0;34m\u001b[0m\u001b[0m\n\u001b[1;32m   1342\u001b[0m     \u001b[0;32mdef\u001b[0m \u001b[0m_prun_fn\u001b[0m\u001b[0;34m(\u001b[0m\u001b[0msession\u001b[0m\u001b[0;34m,\u001b[0m \u001b[0mhandle\u001b[0m\u001b[0;34m,\u001b[0m \u001b[0mfeed_dict\u001b[0m\u001b[0;34m,\u001b[0m \u001b[0mfetch_list\u001b[0m\u001b[0;34m)\u001b[0m\u001b[0;34m:\u001b[0m\u001b[0;34m\u001b[0m\u001b[0m\n",
      "\u001b[0;31mKeyboardInterrupt\u001b[0m: "
     ]
    }
   ],
   "source": [
    "from keras.datasets import cifar10\n",
    "from keras.models import Sequential\n",
    "from keras.layers import Dense, Dropout, MaxPooling2D, Conv2D, Flatten # Import the nessesarly layers\n",
    "from keras.utils import to_categorical\n",
    "from keras.optimizers import SGD\n",
    "\n",
    "(x_train_cfar, y_train_cfar), (x_test_cfar, y_test_cfar) = cifar10.load_data()\n",
    "\n",
    " # prepare data in right format\n",
    "x_train_cfar = x_train_cfar.astype('float32')\n",
    "x_test_cfar = x_test_cfar.astype('float32')\n",
    "x_train_cfar = x_train_cfar / 255.0\n",
    "x_test_cfar = x_test_cfar / 255.0\n",
    "\n",
    "# prepare labels\n",
    "y_train_cfar = to_categorical(y_train_cfar)\n",
    "y_test_cfar = to_categorical(y_test_cfar)\n",
    "\n",
    "\n",
    "# TODO: Create the model\n",
    "def cifar_model(img_width, img_height):\n",
    "    model = Sequential()\n",
    " \n",
    "    model.add(Conv2D(32, (3, 3), padding='same', activation='relu', input_shape=(img_width, img_height,3)))\n",
    "    model.add(Dropout(0.2))\n",
    " \n",
    "    model.add(Conv2D(32,(3,3),padding='same', activation='relu'))\n",
    "    model.add(MaxPooling2D(pool_size=(2,2)))\n",
    " \n",
    "    model.add(Conv2D(64,(3,3),padding='same',activation='relu'))\n",
    "    model.add(Dropout(0.2))\n",
    " \n",
    "    model.add(Conv2D(64,(3,3),padding='same',activation='relu'))\n",
    "    model.add(MaxPooling2D(pool_size=(2,2)))\n",
    " \n",
    "    model.add(Conv2D(128,(3,3),padding='same',activation='relu'))\n",
    "    model.add(Dropout(0.2))\n",
    " \n",
    "    model.add(Conv2D(128,(3,3),padding='same',activation='relu'))\n",
    "    model.add(MaxPooling2D(pool_size=(2,2)))\n",
    " \n",
    "    model.add(Flatten())\n",
    "    model.add(Dropout(0.2))\n",
    "    #model.add(Dense(1024,activation='relu',kernel_constraint=maxnorm(3)))\n",
    "    model.add(Dense(1024,activation='relu'))\n",
    "    model.add(Dropout(0.2))\n",
    "    model.add(Dense(10, activation='softmax'))\n",
    "      \n",
    "    return model\n",
    "\n",
    "# Create and compile model\n",
    "model = cifar_model(32,32)\n",
    "epochs = 25\n",
    "lrate = 0.01\n",
    "decay = lrate/epochs\n",
    "sgd = SGD(lr=0.01, momentum=0.9, decay=decay, nesterov=False)\n",
    "model.compile(loss='categorical_crossentropy', optimizer='sgd', metrics=['accuracy'])\n",
    "\n",
    "# TODO: Train the model, remeber to create a validation set\n",
    "history = model.fit(x_train_cfar, y_train_cfar, epochs=10, batch_size=64)\n",
    "\n",
    "# TODO: Plot the training using the helper function created in task 0\n",
    "#plot_training_score(history)\n",
    "\n",
    "# TODO: Evaluate your model and print the score of the test set\n",
    "score = model.evaluate(x_test_cfar, y_test_cfar)\n",
    "print('Test accuracy:', score[1])\n"
   ]
  },
  {
   "cell_type": "markdown",
   "metadata": {
    "colab_type": "text",
    "id": "3zxlzWRc9aT6"
   },
   "source": [
    "## Task 4 (40%) - Classification using transfer learning\n",
    "\n",
    "#### Dataset:\n",
    "We have prepared a cat-dog dataset which includes:\n",
    "- A train set of 1000 cats + 1000 dogs.\n",
    "- A validation set of 400 cats + 400 dogs.\n",
    "- A test set of 600 cats + 600 dogs.\n",
    "\n",
    "The dataset is stored with the following format:\n",
    "  ```\n",
    "  ├── dataset\n",
    "      ├── test600\n",
    "      │   ├── cat\n",
    "      │   └── dog\n",
    "      ├── train1000\n",
    "      │   ├── cat\n",
    "      │   └── dog\n",
    "      └── validation400\n",
    "          ├── cat\n",
    "          └── dog\n",
    "  ```"
   ]
  },
  {
   "cell_type": "code",
   "execution_count": 1,
   "metadata": {
    "colab": {
     "autoexec": {
      "startup": false,
      "wait_interval": 0
     }
    },
    "colab_type": "code",
    "id": "gsHpSSzs9ZrD"
   },
   "outputs": [
    {
     "ename": "SyntaxError",
     "evalue": "invalid syntax (<ipython-input-1-f3e3d1dca010>, line 2)",
     "output_type": "error",
     "traceback": [
      "\u001b[0;36m  File \u001b[0;32m\"<ipython-input-1-f3e3d1dca010>\"\u001b[0;36m, line \u001b[0;32m2\u001b[0m\n\u001b[0;31m    %%capture\u001b[0m\n\u001b[0m    ^\u001b[0m\n\u001b[0;31mSyntaxError\u001b[0m\u001b[0;31m:\u001b[0m invalid syntax\n"
     ]
    }
   ],
   "source": [
    "# Run this code to download the dataset\n",
    "%%capture\n",
    "!wget --load-cookies /tmp/cookies.txt \"https://docs.google.com/uc?export=download&confirm=$(wget --quiet --save-cookies /tmp/cookies.txt --keep-session-cookies --no-check-certificate 'https://docs.google.com/uc?export=download&id=1yKWfuDRrjS09T5rHWIqaKLTYSFJGpdwE' -O- | sed -rn 's/.*confirm=([0-9A-Za-z_]+).*/\\1\\n/p')&id=1yKWfuDRrjS09T5rHWIqaKLTYSFJGpdwE\" -O temp.zip && rm -rf /tmp/cookies.txt;\n",
    "!rm -r dataset; unzip temp.zip -d dataset; rm temp.zip;"
   ]
  },
  {
   "cell_type": "markdown",
   "metadata": {
    "colab_type": "text",
    "id": "b314wcHYIMeC"
   },
   "source": [
    "### Subtask 4.1\n",
    "\n",
    "- Download a pretrained convolutionary neural network (e.g. VGG16) (and problem specific weights).\n",
    "- Freeze a subset of upper layers weights.\n",
    "- Train on the cat-dog dataset with a fresh fully connected head.\n",
    "- If needed use data augmentation and any other technique to increase your accuracy.\n",
    "\n",
    "**NB:** The images are not of equal size"
   ]
  },
  {
   "cell_type": "code",
   "execution_count": 0,
   "metadata": {
    "colab": {
     "autoexec": {
      "startup": false,
      "wait_interval": 0
     },
     "base_uri": "https://localhost:8080/",
     "height": 34,
     "output_extras": [
      {}
     ]
    },
    "colab_type": "code",
    "executionInfo": {
     "elapsed": 624,
     "status": "ok",
     "timestamp": 1519738824433,
     "user": {
      "displayName": "Oliver Jensen",
      "photoUrl": "https://lh3.googleusercontent.com/a/default-user=s128",
      "userId": "115926704758834551855"
     },
     "user_tz": -60
    },
    "id": "Vk-RDWAuIgf6",
    "outputId": "bd9f6f7b-0d31-4274-cbc1-3daee41ecb7b"
   },
   "outputs": [
    {
     "name": "stdout",
     "output_type": "stream",
     "text": [
      "Shape: (500, 483, 3), max value: 255, min value: 0\n"
     ]
    }
   ],
   "source": [
    "%matplotlib inline\n",
    "from matplotlib import pyplot as plt\n",
    "import numpy as np\n",
    "\n",
    "# Example on how to read an image\n",
    "test_image = plt.imread('./dataset/test600/cat/cat.1401.jpg')\n",
    "print('Shape: {}, max value: {}, min value: {}'.format(test_image.shape, \n",
    "                                                       np.amax(test_image), \n",
    "                                                       np.amin(test_image)))\n",
    "\n",
    "# TODO add your code here"
   ]
  },
  {
   "cell_type": "markdown",
   "metadata": {
    "colab_type": "text",
    "id": "qapDUDscFAuq"
   },
   "source": [
    "### Subtask 4.2\n",
    "1. Output the resulting accuracy and **briefly** explain what you have done.\n",
    "2. Perform (between 2 to 5) different experiments of different hyper parameters, different model designs, different activation functions, etc. Then report the following: \n",
    "\n",
    ">> 2.1. **Briefly** explain your models and make a comparison table of the accuracies you got. \n",
    "\n",
    ">> 2.2. Explain why and which experiments performed better/worse than the others.\n",
    "\n",
    "**TODO** *Add your answer here*\n",
    "\n",
    "\n"
   ]
  }
 ],
 "metadata": {
  "accelerator": "GPU",
  "colab": {
   "collapsed_sections": [],
   "default_view": {},
   "name": "Exercise2.ipynb",
   "provenance": [],
   "version": "0.3.2",
   "views": {}
  },
  "kernelspec": {
   "display_name": "Python 3",
   "language": "python",
   "name": "python3"
  },
  "language_info": {
   "codemirror_mode": {
    "name": "ipython",
    "version": 3
   },
   "file_extension": ".py",
   "mimetype": "text/x-python",
   "name": "python",
   "nbconvert_exporter": "python",
   "pygments_lexer": "ipython3",
   "version": "3.6.3"
  }
 },
 "nbformat": 4,
 "nbformat_minor": 1
}
